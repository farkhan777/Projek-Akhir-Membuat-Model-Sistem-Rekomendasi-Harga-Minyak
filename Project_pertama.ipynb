{
  "nbformat": 4,
  "nbformat_minor": 0,
  "metadata": {
    "colab": {
      "name": "Project pertama.ipynb",
      "provenance": []
    },
    "kernelspec": {
      "name": "python3",
      "display_name": "Python 3"
    },
    "language_info": {
      "name": "python"
    },
    "accelerator": "GPU"
  },
  "cells": [
    {
      "cell_type": "markdown",
      "metadata": {
        "id": "631Exbg6X3oA"
      },
      "source": [
        "# **Instalasi Kaggle**"
      ]
    },
    {
      "cell_type": "markdown",
      "metadata": {
        "id": "t0nSaHyBg7S4"
      },
      "source": [
        "Import kaggle untuk mengambil data"
      ]
    },
    {
      "cell_type": "code",
      "metadata": {
        "id": "rDFKTBUH-Ced"
      },
      "source": [
        "!pip install -q kaggle"
      ],
      "execution_count": 1,
      "outputs": []
    },
    {
      "cell_type": "markdown",
      "metadata": {
        "id": "BC36UDvag-ho"
      },
      "source": [
        "Masukkan file .json yang berisikan username dan key"
      ]
    },
    {
      "cell_type": "code",
      "metadata": {
        "colab": {
          "resources": {
            "http://localhost:8080/nbextensions/google.colab/files.js": {
              "data": "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",
              "ok": true,
              "headers": [
                [
                  "content-type",
                  "application/javascript"
                ]
              ],
              "status": 200,
              "status_text": ""
            }
          },
          "base_uri": "https://localhost:8080/",
          "height": 89
        },
        "id": "3DqCvkeCAEpD",
        "outputId": "f1cf9517-47e8-499f-b007-18741a47c854"
      },
      "source": [
        "from google.colab import files\n",
        "\n",
        "files.upload()"
      ],
      "execution_count": 2,
      "outputs": [
        {
          "output_type": "display_data",
          "data": {
            "text/html": [
              "\n",
              "     <input type=\"file\" id=\"files-e8a198cb-56ea-41b0-9a27-341f656de78b\" name=\"files[]\" multiple disabled\n",
              "        style=\"border:none\" />\n",
              "     <output id=\"result-e8a198cb-56ea-41b0-9a27-341f656de78b\">\n",
              "      Upload widget is only available when the cell has been executed in the\n",
              "      current browser session. Please rerun this cell to enable.\n",
              "      </output>\n",
              "      <script src=\"/nbextensions/google.colab/files.js\"></script> "
            ],
            "text/plain": [
              "<IPython.core.display.HTML object>"
            ]
          },
          "metadata": {}
        },
        {
          "output_type": "stream",
          "name": "stdout",
          "text": [
            "Saving kaggle.json to kaggle.json\n"
          ]
        },
        {
          "output_type": "execute_result",
          "data": {
            "text/plain": [
              "{'kaggle.json': b'{\"username\":\"farhanhamzah\",\"key\":\"eb51f66ce1088b24ad1d5a4dab424e33\"}'}"
            ]
          },
          "metadata": {},
          "execution_count": 2
        }
      ]
    },
    {
      "cell_type": "code",
      "metadata": {
        "id": "fns0TkQWAFyh"
      },
      "source": [
        "! mkdir ~/.kaggle\n",
        "\n",
        "! cp kaggle.json ~/.kaggle/"
      ],
      "execution_count": 3,
      "outputs": []
    },
    {
      "cell_type": "code",
      "metadata": {
        "id": "UHYhia9MAHDW"
      },
      "source": [
        "! chmod 600 ~/.kaggle/kaggle.json"
      ],
      "execution_count": 4,
      "outputs": []
    },
    {
      "cell_type": "markdown",
      "metadata": {
        "id": "xq1E9L6lhDIl"
      },
      "source": [
        "Megunduh dataset dari platform kaggle.com"
      ]
    },
    {
      "cell_type": "code",
      "metadata": {
        "colab": {
          "base_uri": "https://localhost:8080/"
        },
        "id": "8WrM6cc0AIwd",
        "outputId": "e536e454-3c35-43f8-e4ab-5dc8c91b5d6d"
      },
      "source": [
        "!kaggle datasets download -d mabusalah/brent-oil-prices"
      ],
      "execution_count": 5,
      "outputs": [
        {
          "output_type": "stream",
          "name": "stdout",
          "text": [
            "Downloading brent-oil-prices.zip to /content\n",
            "\r  0% 0.00/36.0k [00:00<?, ?B/s]\n",
            "\r100% 36.0k/36.0k [00:00<00:00, 31.6MB/s]\n"
          ]
        }
      ]
    },
    {
      "cell_type": "markdown",
      "metadata": {
        "id": "P92noJp8YB6h"
      },
      "source": [
        "# **Import Library**"
      ]
    },
    {
      "cell_type": "code",
      "metadata": {
        "id": "fEdT3ssdAWaK"
      },
      "source": [
        "import os\n",
        "import zipfile\n",
        "import numpy as np\n",
        "import pandas as pd\n",
        "import tensorflow as tf\n",
        "import matplotlib.pyplot as plt \n",
        "from sklearn import preprocessing\n",
        "from sklearn.model_selection import train_test_split"
      ],
      "execution_count": 27,
      "outputs": []
    },
    {
      "cell_type": "markdown",
      "metadata": {
        "id": "T9vQ9cmEYGrQ"
      },
      "source": [
        "# **Ekstraksi & Load Data**"
      ]
    },
    {
      "cell_type": "markdown",
      "metadata": {
        "id": "TUmlytYQhGj9"
      },
      "source": [
        "Ekstraksi data"
      ]
    },
    {
      "cell_type": "code",
      "metadata": {
        "id": "hPMCBLP1Ah_O"
      },
      "source": [
        "local_zip = '/content/brent-oil-prices.zip'\n",
        "zip_ref = zipfile.ZipFile(local_zip, 'r')\n",
        "zip_ref.extractall('/content')\n",
        "zip_ref.close()"
      ],
      "execution_count": 28,
      "outputs": []
    },
    {
      "cell_type": "markdown",
      "metadata": {
        "id": "-gmYYvyuhHly"
      },
      "source": [
        "Membuat dataframe"
      ]
    },
    {
      "cell_type": "code",
      "metadata": {
        "colab": {
          "base_uri": "https://localhost:8080/",
          "height": 419
        },
        "id": "nLdh8JQbArDd",
        "outputId": "1abdffc2-d1a5-43eb-9e04-157b00f7d825"
      },
      "source": [
        "df=pd.read_csv('/content/BrentOilPrices.csv')\n",
        "df"
      ],
      "execution_count": 29,
      "outputs": [
        {
          "output_type": "execute_result",
          "data": {
            "text/html": [
              "<div>\n",
              "<style scoped>\n",
              "    .dataframe tbody tr th:only-of-type {\n",
              "        vertical-align: middle;\n",
              "    }\n",
              "\n",
              "    .dataframe tbody tr th {\n",
              "        vertical-align: top;\n",
              "    }\n",
              "\n",
              "    .dataframe thead th {\n",
              "        text-align: right;\n",
              "    }\n",
              "</style>\n",
              "<table border=\"1\" class=\"dataframe\">\n",
              "  <thead>\n",
              "    <tr style=\"text-align: right;\">\n",
              "      <th></th>\n",
              "      <th>Date</th>\n",
              "      <th>Price</th>\n",
              "    </tr>\n",
              "  </thead>\n",
              "  <tbody>\n",
              "    <tr>\n",
              "      <th>0</th>\n",
              "      <td>20-May-87</td>\n",
              "      <td>18.63</td>\n",
              "    </tr>\n",
              "    <tr>\n",
              "      <th>1</th>\n",
              "      <td>21-May-87</td>\n",
              "      <td>18.45</td>\n",
              "    </tr>\n",
              "    <tr>\n",
              "      <th>2</th>\n",
              "      <td>22-May-87</td>\n",
              "      <td>18.55</td>\n",
              "    </tr>\n",
              "    <tr>\n",
              "      <th>3</th>\n",
              "      <td>25-May-87</td>\n",
              "      <td>18.60</td>\n",
              "    </tr>\n",
              "    <tr>\n",
              "      <th>4</th>\n",
              "      <td>26-May-87</td>\n",
              "      <td>18.63</td>\n",
              "    </tr>\n",
              "    <tr>\n",
              "      <th>...</th>\n",
              "      <td>...</td>\n",
              "      <td>...</td>\n",
              "    </tr>\n",
              "    <tr>\n",
              "      <th>8549</th>\n",
              "      <td>Jan 19, 2021</td>\n",
              "      <td>55.38</td>\n",
              "    </tr>\n",
              "    <tr>\n",
              "      <th>8550</th>\n",
              "      <td>Jan 20, 2021</td>\n",
              "      <td>55.66</td>\n",
              "    </tr>\n",
              "    <tr>\n",
              "      <th>8551</th>\n",
              "      <td>Jan 21, 2021</td>\n",
              "      <td>55.68</td>\n",
              "    </tr>\n",
              "    <tr>\n",
              "      <th>8552</th>\n",
              "      <td>Jan 22, 2021</td>\n",
              "      <td>55.22</td>\n",
              "    </tr>\n",
              "    <tr>\n",
              "      <th>8553</th>\n",
              "      <td>Jan 25, 2021</td>\n",
              "      <td>55.44</td>\n",
              "    </tr>\n",
              "  </tbody>\n",
              "</table>\n",
              "<p>8554 rows × 2 columns</p>\n",
              "</div>"
            ],
            "text/plain": [
              "              Date  Price\n",
              "0        20-May-87  18.63\n",
              "1        21-May-87  18.45\n",
              "2        22-May-87  18.55\n",
              "3        25-May-87  18.60\n",
              "4        26-May-87  18.63\n",
              "...            ...    ...\n",
              "8549  Jan 19, 2021  55.38\n",
              "8550  Jan 20, 2021  55.66\n",
              "8551  Jan 21, 2021  55.68\n",
              "8552  Jan 22, 2021  55.22\n",
              "8553  Jan 25, 2021  55.44\n",
              "\n",
              "[8554 rows x 2 columns]"
            ]
          },
          "metadata": {},
          "execution_count": 29
        }
      ]
    },
    {
      "cell_type": "markdown",
      "metadata": {
        "id": "Yckw2Op7fUgX"
      },
      "source": [
        "# **Informasi Data**"
      ]
    },
    {
      "cell_type": "markdown",
      "metadata": {
        "id": "zsC_slxVhNJ9"
      },
      "source": [
        "Memeriksa informasi data"
      ]
    },
    {
      "cell_type": "code",
      "metadata": {
        "colab": {
          "base_uri": "https://localhost:8080/"
        },
        "id": "41-8SXrCAyPO",
        "outputId": "fcf00f19-8860-4431-c616-9d3ab3d7568b"
      },
      "source": [
        "df.info()"
      ],
      "execution_count": 30,
      "outputs": [
        {
          "output_type": "stream",
          "name": "stdout",
          "text": [
            "<class 'pandas.core.frame.DataFrame'>\n",
            "RangeIndex: 8554 entries, 0 to 8553\n",
            "Data columns (total 2 columns):\n",
            " #   Column  Non-Null Count  Dtype  \n",
            "---  ------  --------------  -----  \n",
            " 0   Date    8554 non-null   object \n",
            " 1   Price   8554 non-null   float64\n",
            "dtypes: float64(1), object(1)\n",
            "memory usage: 133.8+ KB\n"
          ]
        }
      ]
    },
    {
      "cell_type": "markdown",
      "metadata": {
        "id": "u449TtJ6h-hX"
      },
      "source": [
        "Cek apakah ada data yang kosong"
      ]
    },
    {
      "cell_type": "code",
      "metadata": {
        "colab": {
          "base_uri": "https://localhost:8080/"
        },
        "id": "mKJWZBU9A8fK",
        "outputId": "757e0267-6f76-4577-e019-fe135616d5de"
      },
      "source": [
        "df.isnull().sum()"
      ],
      "execution_count": 31,
      "outputs": [
        {
          "output_type": "execute_result",
          "data": {
            "text/plain": [
              "Date     0\n",
              "Price    0\n",
              "dtype: int64"
            ]
          },
          "metadata": {},
          "execution_count": 31
        }
      ]
    },
    {
      "cell_type": "markdown",
      "metadata": {
        "id": "STox3_zPiGNA"
      },
      "source": [
        "Deskripsi data"
      ]
    },
    {
      "cell_type": "code",
      "metadata": {
        "colab": {
          "base_uri": "https://localhost:8080/",
          "height": 297
        },
        "id": "UYRnZBKvA_zu",
        "outputId": "5644163c-7d60-45f8-a5b7-4178fdfad575"
      },
      "source": [
        "df.describe()"
      ],
      "execution_count": 32,
      "outputs": [
        {
          "output_type": "execute_result",
          "data": {
            "text/html": [
              "<div>\n",
              "<style scoped>\n",
              "    .dataframe tbody tr th:only-of-type {\n",
              "        vertical-align: middle;\n",
              "    }\n",
              "\n",
              "    .dataframe tbody tr th {\n",
              "        vertical-align: top;\n",
              "    }\n",
              "\n",
              "    .dataframe thead th {\n",
              "        text-align: right;\n",
              "    }\n",
              "</style>\n",
              "<table border=\"1\" class=\"dataframe\">\n",
              "  <thead>\n",
              "    <tr style=\"text-align: right;\">\n",
              "      <th></th>\n",
              "      <th>Price</th>\n",
              "    </tr>\n",
              "  </thead>\n",
              "  <tbody>\n",
              "    <tr>\n",
              "      <th>count</th>\n",
              "      <td>8554.000000</td>\n",
              "    </tr>\n",
              "    <tr>\n",
              "      <th>mean</th>\n",
              "      <td>46.352962</td>\n",
              "    </tr>\n",
              "    <tr>\n",
              "      <th>std</th>\n",
              "      <td>32.165282</td>\n",
              "    </tr>\n",
              "    <tr>\n",
              "      <th>min</th>\n",
              "      <td>9.100000</td>\n",
              "    </tr>\n",
              "    <tr>\n",
              "      <th>25%</th>\n",
              "      <td>18.850000</td>\n",
              "    </tr>\n",
              "    <tr>\n",
              "      <th>50%</th>\n",
              "      <td>33.240000</td>\n",
              "    </tr>\n",
              "    <tr>\n",
              "      <th>75%</th>\n",
              "      <td>66.210000</td>\n",
              "    </tr>\n",
              "    <tr>\n",
              "      <th>max</th>\n",
              "      <td>143.950000</td>\n",
              "    </tr>\n",
              "  </tbody>\n",
              "</table>\n",
              "</div>"
            ],
            "text/plain": [
              "             Price\n",
              "count  8554.000000\n",
              "mean     46.352962\n",
              "std      32.165282\n",
              "min       9.100000\n",
              "25%      18.850000\n",
              "50%      33.240000\n",
              "75%      66.210000\n",
              "max     143.950000"
            ]
          },
          "metadata": {},
          "execution_count": 32
        }
      ]
    },
    {
      "cell_type": "markdown",
      "metadata": {
        "id": "Hiqs2LVwfkw_"
      },
      "source": [
        "# **Data Analysis**"
      ]
    },
    {
      "cell_type": "markdown",
      "metadata": {
        "id": "9QusTFh1jAzW"
      },
      "source": [
        "Mengganti format data \"Date\" menggunakan to_datetime yang ada pada library pandas. Lalu menyorting data \"Date\" dari tahun 1987 ke 2021 menggunakan sort_values yang juga ada pada library pandas. "
      ]
    },
    {
      "cell_type": "code",
      "metadata": {
        "colab": {
          "base_uri": "https://localhost:8080/",
          "height": 470
        },
        "id": "gcKiOLp7A_8V",
        "outputId": "3cb42f3a-732a-4db4-81f8-5d7fad6f1f2f"
      },
      "source": [
        "df['Date'] = pd.to_datetime(df['Date'])\n",
        "df = df.sort_values(by=['Date'])\n",
        "print(df.dtypes)\n",
        "df"
      ],
      "execution_count": 33,
      "outputs": [
        {
          "output_type": "stream",
          "name": "stdout",
          "text": [
            "Date     datetime64[ns]\n",
            "Price           float64\n",
            "dtype: object\n"
          ]
        },
        {
          "output_type": "execute_result",
          "data": {
            "text/html": [
              "<div>\n",
              "<style scoped>\n",
              "    .dataframe tbody tr th:only-of-type {\n",
              "        vertical-align: middle;\n",
              "    }\n",
              "\n",
              "    .dataframe tbody tr th {\n",
              "        vertical-align: top;\n",
              "    }\n",
              "\n",
              "    .dataframe thead th {\n",
              "        text-align: right;\n",
              "    }\n",
              "</style>\n",
              "<table border=\"1\" class=\"dataframe\">\n",
              "  <thead>\n",
              "    <tr style=\"text-align: right;\">\n",
              "      <th></th>\n",
              "      <th>Date</th>\n",
              "      <th>Price</th>\n",
              "    </tr>\n",
              "  </thead>\n",
              "  <tbody>\n",
              "    <tr>\n",
              "      <th>0</th>\n",
              "      <td>1987-05-20</td>\n",
              "      <td>18.63</td>\n",
              "    </tr>\n",
              "    <tr>\n",
              "      <th>1</th>\n",
              "      <td>1987-05-21</td>\n",
              "      <td>18.45</td>\n",
              "    </tr>\n",
              "    <tr>\n",
              "      <th>2</th>\n",
              "      <td>1987-05-22</td>\n",
              "      <td>18.55</td>\n",
              "    </tr>\n",
              "    <tr>\n",
              "      <th>3</th>\n",
              "      <td>1987-05-25</td>\n",
              "      <td>18.60</td>\n",
              "    </tr>\n",
              "    <tr>\n",
              "      <th>4</th>\n",
              "      <td>1987-05-26</td>\n",
              "      <td>18.63</td>\n",
              "    </tr>\n",
              "    <tr>\n",
              "      <th>...</th>\n",
              "      <td>...</td>\n",
              "      <td>...</td>\n",
              "    </tr>\n",
              "    <tr>\n",
              "      <th>8549</th>\n",
              "      <td>2021-01-19</td>\n",
              "      <td>55.38</td>\n",
              "    </tr>\n",
              "    <tr>\n",
              "      <th>8550</th>\n",
              "      <td>2021-01-20</td>\n",
              "      <td>55.66</td>\n",
              "    </tr>\n",
              "    <tr>\n",
              "      <th>8551</th>\n",
              "      <td>2021-01-21</td>\n",
              "      <td>55.68</td>\n",
              "    </tr>\n",
              "    <tr>\n",
              "      <th>8552</th>\n",
              "      <td>2021-01-22</td>\n",
              "      <td>55.22</td>\n",
              "    </tr>\n",
              "    <tr>\n",
              "      <th>8553</th>\n",
              "      <td>2021-01-25</td>\n",
              "      <td>55.44</td>\n",
              "    </tr>\n",
              "  </tbody>\n",
              "</table>\n",
              "<p>8554 rows × 2 columns</p>\n",
              "</div>"
            ],
            "text/plain": [
              "           Date  Price\n",
              "0    1987-05-20  18.63\n",
              "1    1987-05-21  18.45\n",
              "2    1987-05-22  18.55\n",
              "3    1987-05-25  18.60\n",
              "4    1987-05-26  18.63\n",
              "...         ...    ...\n",
              "8549 2021-01-19  55.38\n",
              "8550 2021-01-20  55.66\n",
              "8551 2021-01-21  55.68\n",
              "8552 2021-01-22  55.22\n",
              "8553 2021-01-25  55.44\n",
              "\n",
              "[8554 rows x 2 columns]"
            ]
          },
          "metadata": {},
          "execution_count": 33
        }
      ]
    },
    {
      "cell_type": "markdown",
      "metadata": {
        "id": "xmHmIxWukbXe"
      },
      "source": [
        "Menghilangkan kolom nomor rows menggunakan drop"
      ]
    },
    {
      "cell_type": "code",
      "metadata": {
        "colab": {
          "base_uri": "https://localhost:8080/",
          "height": 450
        },
        "id": "CU-g4cMyCwEQ",
        "outputId": "9ec81581-5d16-43d1-f97c-ce6090b7a96c"
      },
      "source": [
        "df.index = df['Date']\n",
        "df = df.drop(['Date'], axis=1)\n",
        "df"
      ],
      "execution_count": 34,
      "outputs": [
        {
          "output_type": "execute_result",
          "data": {
            "text/html": [
              "<div>\n",
              "<style scoped>\n",
              "    .dataframe tbody tr th:only-of-type {\n",
              "        vertical-align: middle;\n",
              "    }\n",
              "\n",
              "    .dataframe tbody tr th {\n",
              "        vertical-align: top;\n",
              "    }\n",
              "\n",
              "    .dataframe thead th {\n",
              "        text-align: right;\n",
              "    }\n",
              "</style>\n",
              "<table border=\"1\" class=\"dataframe\">\n",
              "  <thead>\n",
              "    <tr style=\"text-align: right;\">\n",
              "      <th></th>\n",
              "      <th>Price</th>\n",
              "    </tr>\n",
              "    <tr>\n",
              "      <th>Date</th>\n",
              "      <th></th>\n",
              "    </tr>\n",
              "  </thead>\n",
              "  <tbody>\n",
              "    <tr>\n",
              "      <th>1987-05-20</th>\n",
              "      <td>18.63</td>\n",
              "    </tr>\n",
              "    <tr>\n",
              "      <th>1987-05-21</th>\n",
              "      <td>18.45</td>\n",
              "    </tr>\n",
              "    <tr>\n",
              "      <th>1987-05-22</th>\n",
              "      <td>18.55</td>\n",
              "    </tr>\n",
              "    <tr>\n",
              "      <th>1987-05-25</th>\n",
              "      <td>18.60</td>\n",
              "    </tr>\n",
              "    <tr>\n",
              "      <th>1987-05-26</th>\n",
              "      <td>18.63</td>\n",
              "    </tr>\n",
              "    <tr>\n",
              "      <th>...</th>\n",
              "      <td>...</td>\n",
              "    </tr>\n",
              "    <tr>\n",
              "      <th>2021-01-19</th>\n",
              "      <td>55.38</td>\n",
              "    </tr>\n",
              "    <tr>\n",
              "      <th>2021-01-20</th>\n",
              "      <td>55.66</td>\n",
              "    </tr>\n",
              "    <tr>\n",
              "      <th>2021-01-21</th>\n",
              "      <td>55.68</td>\n",
              "    </tr>\n",
              "    <tr>\n",
              "      <th>2021-01-22</th>\n",
              "      <td>55.22</td>\n",
              "    </tr>\n",
              "    <tr>\n",
              "      <th>2021-01-25</th>\n",
              "      <td>55.44</td>\n",
              "    </tr>\n",
              "  </tbody>\n",
              "</table>\n",
              "<p>8554 rows × 1 columns</p>\n",
              "</div>"
            ],
            "text/plain": [
              "            Price\n",
              "Date             \n",
              "1987-05-20  18.63\n",
              "1987-05-21  18.45\n",
              "1987-05-22  18.55\n",
              "1987-05-25  18.60\n",
              "1987-05-26  18.63\n",
              "...           ...\n",
              "2021-01-19  55.38\n",
              "2021-01-20  55.66\n",
              "2021-01-21  55.68\n",
              "2021-01-22  55.22\n",
              "2021-01-25  55.44\n",
              "\n",
              "[8554 rows x 1 columns]"
            ]
          },
          "metadata": {},
          "execution_count": 34
        }
      ]
    },
    {
      "cell_type": "markdown",
      "metadata": {
        "id": "tikghk5nkmij"
      },
      "source": [
        "Membuat plot harga minyak dari tahun ke tahun menggunakan fungsi plot dari library matplotlib."
      ]
    },
    {
      "cell_type": "code",
      "metadata": {
        "colab": {
          "base_uri": "https://localhost:8080/",
          "height": 364
        },
        "id": "IOFYV8C0CoS6",
        "outputId": "29fdbd4d-d957-4dec-b7de-45514a7f1df7"
      },
      "source": [
        "plt.figure(figsize=(15,5))\n",
        "plt.plot(df)\n",
        "plt.xlabel('Date', fontsize=20)\n",
        "plt.ylabel('Price', fontsize=20)\n",
        "plt.title('Oil Price', fontsize=20)\n",
        "plt.show()"
      ],
      "execution_count": 35,
      "outputs": [
        {
          "output_type": "display_data",
          "data": {
            "image/png": "[encoded data removed]",
            "text/plain": [
              "<Figure size 1080x360 with 1 Axes>"
            ]
          },
          "metadata": {
            "needs_background": "light"
          }
        }
      ]
    },
    {
      "cell_type": "markdown",
      "metadata": {
        "id": "aRewNWkbgdxo"
      },
      "source": [
        "# **Scaling Data**"
      ]
    },
    {
      "cell_type": "markdown",
      "metadata": {
        "id": "70OjYLLLlV1R"
      },
      "source": [
        "Melakaukan preprocessing data menggunakan MinMaxScaler yang berfungsi untuk mengubah data berada di rentang 0 sampai 1"
      ]
    },
    {
      "cell_type": "code",
      "metadata": {
        "id": "JqmY_il7M_kH",
        "colab": {
          "base_uri": "https://localhost:8080/"
        },
        "outputId": "905124e3-3232-4106-fdca-0713ca14a1c0"
      },
      "source": [
        "mm_scaler = preprocessing.MinMaxScaler()\n",
        "df = mm_scaler.fit_transform(df)\n",
        "train_data, test_data = df[0:int(len(df)*0.8), :], df[int(len(df)*0.8):len(df), :]\n",
        "mm_scaler.transform(test_data)"
      ],
      "execution_count": 38,
      "outputs": [
        {
          "output_type": "execute_result",
          "data": {
            "text/plain": [
              "array([[0.73919169],\n",
              "       [0.74727475],\n",
              "       [0.74631072],\n",
              "       ...,\n",
              "       [0.34542084],\n",
              "       [0.34200964],\n",
              "       [0.34364108]])"
            ]
          },
          "metadata": {},
          "execution_count": 38
        }
      ]
    },
    {
      "cell_type": "markdown",
      "metadata": {
        "id": "CHtz1shQ4ccx"
      },
      "source": [
        "Score mae"
      ]
    },
    {
      "cell_type": "code",
      "metadata": {
        "colab": {
          "base_uri": "https://localhost:8080/"
        },
        "id": "uoh3ScBC3w7F",
        "outputId": "d88b5bdf-f6bb-4df0-81b3-ad8094a6cf9b"
      },
      "source": [
        "MAE_SCORE = (train_data.max() - train_data.min()) * 10/100\n",
        "print(MAE_SCORE)"
      ],
      "execution_count": 39,
      "outputs": [
        {
          "output_type": "stream",
          "name": "stdout",
          "text": [
            "0.1\n"
          ]
        }
      ]
    },
    {
      "cell_type": "markdown",
      "metadata": {
        "id": "aozU9pfJlvGJ"
      },
      "source": [
        "Membuat fungsi dataset_preparation untuk menyiapkan dataset"
      ]
    },
    {
      "cell_type": "code",
      "metadata": {
        "id": "dn7iLqhoNPOh"
      },
      "source": [
        "def dataset_preparation(dataset, window):\n",
        "    df = []\n",
        "    label = []\n",
        "\n",
        "    for i in range(len(dataset) - window - 1):\n",
        "        data = dataset[i:(i + window), 0]\n",
        "        df.append(data)\n",
        "        label.append(dataset[i+window,0])\n",
        "    return np.array(df), np.array(label)\n",
        "\n",
        "x_train, y_train = dataset_preparation(train_data,80)\n",
        "x_test, y_test = dataset_preparation(test_data,80)\n",
        "x_train = np.reshape(x_train, (x_train.shape[0], x_train.shape[1],1))\n",
        "x_test = np.reshape(x_test, (x_test.shape[0], x_train.shape[1],1))"
      ],
      "execution_count": 40,
      "outputs": []
    },
    {
      "cell_type": "code",
      "metadata": {
        "colab": {
          "base_uri": "https://localhost:8080/"
        },
        "id": "pEQnlbEKP4X1",
        "outputId": "ee852407-22ad-4dc8-e10d-9902ccf32dfb"
      },
      "source": [
        "print('trainX shape == {}.'.format(x_train.shape))\n",
        "print('trainY shape == {}.'.format(y_train.shape))\n",
        "print('testX shape == {}.'.format(x_test.shape))\n",
        "print('testY shape == {}.'.format(y_test.shape))"
      ],
      "execution_count": 41,
      "outputs": [
        {
          "output_type": "stream",
          "name": "stdout",
          "text": [
            "trainX shape == (6762, 80, 1).\n",
            "trainY shape == (6762,).\n",
            "testX shape == (1630, 80, 1).\n",
            "testY shape == (1630,).\n"
          ]
        }
      ]
    },
    {
      "cell_type": "markdown",
      "metadata": {
        "id": "k-I2l4lhgnsk"
      },
      "source": [
        "# **Modeling**"
      ]
    },
    {
      "cell_type": "markdown",
      "metadata": {
        "id": "ACVeq1EdoKwb"
      },
      "source": [
        "Untuk arsitektur model gunakan 1 buah layer LSTM"
      ]
    },
    {
      "cell_type": "code",
      "metadata": {
        "id": "bCfiMhtxP9QX"
      },
      "source": [
        "model = tf.keras.models.Sequential([\n",
        "                                    tf.keras.layers.LSTM(60, input_shape = (x_train.shape[1], 1)),\n",
        "                                    tf.keras.layers.Dropout(0.2),\n",
        "                                    tf.keras.layers.Dense(1)\n",
        "])"
      ],
      "execution_count": 42,
      "outputs": []
    },
    {
      "cell_type": "markdown",
      "metadata": {
        "id": "xqYa-g7-nV_1"
      },
      "source": [
        "Membuat callback function"
      ]
    },
    {
      "cell_type": "code",
      "metadata": {
        "id": "9q5DbQrGRID8"
      },
      "source": [
        "class myCallback(tf.keras.callbacks.Callback):\n",
        "  def on_epoch_end(self, epoch, logs={}):\n",
        "    if(logs.get('loss')<0.0005 and logs.get('val_loss') <0.0005):\n",
        "      print(\"\\ntraining berhenti\")\n",
        "      self.model.stop_training = True\n",
        "callbacks = myCallback()"
      ],
      "execution_count": 43,
      "outputs": []
    },
    {
      "cell_type": "markdown",
      "metadata": {
        "id": "AaurpzVMoSVf"
      },
      "source": [
        "Pada optimizer menggunakan parameter adam seperti di bawah. Loss function yang dapat dicoba untuk ini adalah MSE (Mean Squared Error)."
      ]
    },
    {
      "cell_type": "code",
      "metadata": {
        "id": "mUB0uDb1Q-4s"
      },
      "source": [
        "model.compile(\n",
        "    loss='mean_squared_error',\n",
        "    optimizer='adam', \n",
        "    metrics=[\"mae\"])"
      ],
      "execution_count": 44,
      "outputs": []
    },
    {
      "cell_type": "markdown",
      "metadata": {
        "id": "F2PhCwjNoym3"
      },
      "source": [
        "Hasil dari pelatihan model adalah sebagai berikut yang menunjukkan model memiliki loss yang relatif rendah."
      ]
    },
    {
      "cell_type": "code",
      "metadata": {
        "colab": {
          "base_uri": "https://localhost:8080/"
        },
        "id": "sapJmNTVRD_x",
        "outputId": "cd4cd8d7-7a43-4669-fcae-6d036fe9afdc"
      },
      "source": [
        "hist = model.fit(\n",
        "    x_train, \n",
        "    y_train, \n",
        "    validation_data=(x_train, y_train),\n",
        "    epochs=15,\n",
        "    callbacks=[callbacks],\n",
        "    batch_size=64,\n",
        "    verbose=1,)"
      ],
      "execution_count": 45,
      "outputs": [
        {
          "output_type": "stream",
          "name": "stdout",
          "text": [
            "Epoch 1/15\n",
            "106/106 [==============================] - 9s 65ms/step - loss: 0.0105 - mae: 0.0529 - val_loss: 3.3785e-04 - val_mae: 0.0130\n",
            "Epoch 2/15\n",
            "106/106 [==============================] - 6s 61ms/step - loss: 0.0013 - mae: 0.0219 - val_loss: 3.0596e-04 - val_mae: 0.0117\n",
            "Epoch 3/15\n",
            "106/106 [==============================] - 7s 63ms/step - loss: 0.0010 - mae: 0.0195 - val_loss: 3.1855e-04 - val_mae: 0.0113\n",
            "Epoch 4/15\n",
            "106/106 [==============================] - 7s 65ms/step - loss: 9.2695e-04 - mae: 0.0185 - val_loss: 2.5091e-04 - val_mae: 0.0107\n",
            "Epoch 5/15\n",
            "106/106 [==============================] - 7s 65ms/step - loss: 8.0890e-04 - mae: 0.0173 - val_loss: 2.3237e-04 - val_mae: 0.0101\n",
            "Epoch 6/15\n",
            "106/106 [==============================] - 7s 62ms/step - loss: 8.1282e-04 - mae: 0.0172 - val_loss: 2.4057e-04 - val_mae: 0.0102\n",
            "Epoch 7/15\n",
            "106/106 [==============================] - 7s 64ms/step - loss: 8.0625e-04 - mae: 0.0169 - val_loss: 2.2061e-04 - val_mae: 0.0096\n",
            "Epoch 8/15\n",
            "106/106 [==============================] - 7s 63ms/step - loss: 7.9307e-04 - mae: 0.0168 - val_loss: 2.6614e-04 - val_mae: 0.0106\n",
            "Epoch 9/15\n",
            "106/106 [==============================] - 6s 61ms/step - loss: 7.6135e-04 - mae: 0.0164 - val_loss: 2.2563e-04 - val_mae: 0.0097\n",
            "Epoch 10/15\n",
            "106/106 [==============================] - 7s 64ms/step - loss: 7.7920e-04 - mae: 0.0165 - val_loss: 2.4038e-04 - val_mae: 0.0100\n",
            "Epoch 11/15\n",
            "106/106 [==============================] - 6s 59ms/step - loss: 6.7649e-04 - mae: 0.0154 - val_loss: 2.0437e-04 - val_mae: 0.0094\n",
            "Epoch 12/15\n",
            "106/106 [==============================] - 7s 62ms/step - loss: 6.3305e-04 - mae: 0.0150 - val_loss: 1.7887e-04 - val_mae: 0.0086\n",
            "Epoch 13/15\n",
            "106/106 [==============================] - 7s 62ms/step - loss: 6.4206e-04 - mae: 0.0149 - val_loss: 2.3476e-04 - val_mae: 0.0099\n",
            "Epoch 14/15\n",
            "106/106 [==============================] - 7s 64ms/step - loss: 6.4423e-04 - mae: 0.0148 - val_loss: 1.8275e-04 - val_mae: 0.0088\n",
            "Epoch 15/15\n",
            "106/106 [==============================] - 7s 64ms/step - loss: 6.3288e-04 - mae: 0.0147 - val_loss: 1.6921e-04 - val_mae: 0.0083\n"
          ]
        }
      ]
    },
    {
      "cell_type": "markdown",
      "metadata": {
        "id": "yezxqrdso-GK"
      },
      "source": [
        "Menampilkan plot loss"
      ]
    },
    {
      "cell_type": "code",
      "metadata": {
        "colab": {
          "base_uri": "https://localhost:8080/",
          "height": 279
        },
        "id": "pYWyER19U-M4",
        "outputId": "f83e42fb-ea08-444f-eb8f-4e4005cc115b"
      },
      "source": [
        "plt.plot(hist.history['loss'])\n",
        "plt.plot(hist.history['val_loss'])\n",
        "plt.ylabel('Loss Train')\n",
        "plt.xlabel('Loss Validation')\n",
        "plt.legend(['Loss Train', 'Loss Validation'], loc='upper right')\n",
        "plt.show()"
      ],
      "execution_count": 46,
      "outputs": [
        {
          "output_type": "display_data",
          "data": {
            "image/png": "[encoded data removed]",
            "text/plain": [
              "<Figure size 432x288 with 1 Axes>"
            ]
          },
          "metadata": {
            "needs_background": "light"
          }
        }
      ]
    },
    {
      "cell_type": "markdown",
      "metadata": {
        "id": "cqRIJGYd_WF4"
      },
      "source": [
        "Menampilkan plot mae"
      ]
    },
    {
      "cell_type": "code",
      "metadata": {
        "colab": {
          "base_uri": "https://localhost:8080/",
          "height": 279
        },
        "id": "843nhlnivDah",
        "outputId": "fa3ed969-660a-43ea-b018-31aad0914b7d"
      },
      "source": [
        "plt.plot(hist.history['mae'])\n",
        "plt.plot(hist.history['val_mae'])\n",
        "plt.ylabel('Mae Train')\n",
        "plt.xlabel('Mae Validation')\n",
        "plt.legend(['Mae Train', 'Mae Validation'], loc='upper right')\n",
        "plt.show()"
      ],
      "execution_count": 47,
      "outputs": [
        {
          "output_type": "display_data",
          "data": {
            "image/png": "[encoded data removed]",
            "text/plain": [
              "<Figure size 432x288 with 1 Axes>"
            ]
          },
          "metadata": {
            "needs_background": "light"
          }
        }
      ]
    },
    {
      "cell_type": "markdown",
      "metadata": {
        "id": "fduHrmIipHgQ"
      },
      "source": [
        "Memprediksi tiap step menggunakan predict yang ada pada library sklearn"
      ]
    },
    {
      "cell_type": "code",
      "metadata": {
        "id": "6ju7DdV1T56c"
      },
      "source": [
        "predict_model_test = model.predict(x_test)\n",
        "predict_model_test = mm_scaler.inverse_transform(predict_model_test)\n",
        "actual_model_test = mm_scaler.inverse_transform([y_test])"
      ],
      "execution_count": 48,
      "outputs": []
    },
    {
      "cell_type": "markdown",
      "metadata": {
        "id": "8RiE7C_lpNR9"
      },
      "source": [
        "Membandingkan grafik prediksi dan yang sebenarnya"
      ]
    },
    {
      "cell_type": "code",
      "metadata": {
        "colab": {
          "base_uri": "https://localhost:8080/",
          "height": 339
        },
        "id": "6c70U6boU8lO",
        "outputId": "d10a6d16-7d67-4282-d19e-7d88ff36a355"
      },
      "source": [
        "plot=[i for i in range(1000)]\n",
        "plt.figure(figsize=(15,5))\n",
        "plt.plot(plot, actual_model_test[0][:1000])\n",
        "plt.plot(plot, predict_model_test[:,0][:1000], 'red')\n",
        "plt.ylabel('Price in USD', size=15)\n",
        "plt.xlabel('Time step', size=15)\n",
        "plt.legend([\"Actual\", \"Prediction\"], fontsize=15, loc='lower left')\n",
        "plt.show();"
      ],
      "execution_count": 49,
      "outputs": [
        {
          "output_type": "display_data",
          "data": {
            "image/png": "[encoded data removed]",
            "text/plain": [
              "<Figure size 1080x360 with 1 Axes>"
            ]
          },
          "metadata": {
            "needs_background": "light"
          }
        }
      ]
    },
    {
      "cell_type": "markdown",
      "metadata": {
        "id": "JWIoYQy9qWVA"
      },
      "source": [
        "Dari grafik di atas dapat dilihat bahwa prediksi yang diasilkan menyerupai aslinya."
      ]
    }
  ]
}